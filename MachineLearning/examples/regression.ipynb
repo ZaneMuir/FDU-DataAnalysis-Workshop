{
 "cells": [
  {
   "cell_type": "code",
   "execution_count": null,
   "metadata": {},
   "outputs": [],
   "source": [
    "import numpy as np\n",
    "import matplotlib.pyplot as plt\n",
    "from mpl_toolkits.mplot3d import Axes3D\n",
    "import scipy.stats as stats\n",
    "\n",
    "from plotly.offline import download_plotlyjs, init_notebook_mode, plot, iplot\n",
    "import plotly.graph_objs as go\n",
    "init_notebook_mode(connected=True)\n",
    "\n",
    "from sklearn import linear_model\n",
    "\n",
    "# import torch\n",
    "# import torch.nn as nn\n",
    "# import torch.optim as optim\n",
    "\n",
    "# from tqdm import tqdm"
   ]
  },
  {
   "cell_type": "markdown",
   "metadata": {},
   "source": [
    "$$y_i = w_1 x_{i1} + w_2 x_{i2} + \\cdots + w_n x_{in} + b = \\mathbf{x}_i^T \\mathbf{w} + b$$\n",
    "\n",
    "$$\\mathbf{Y}^{m\\times1} = \\mathbf{X}^{m \\times n} \\mathbf{w}^{n \\times 1} + b$$\n",
    "\n",
    "$\\mathbf{w}$ as the `coef_` and the $b$ as the `intercept_`"
   ]
  },
  {
   "cell_type": "markdown",
   "metadata": {},
   "source": [
    "## n = 1"
   ]
  },
  {
   "cell_type": "code",
   "execution_count": null,
   "metadata": {},
   "outputs": [],
   "source": [
    "## create our dataset\n",
    "\n",
    "_systolic_population = lambda w, sig=1: w*0.4 + 90 + np.array(np.random.randn(np.size(w)), dtype='single') * sig\n",
    "\n",
    "# plt.plot(_weight, _systolic)\n",
    "n = 200\n",
    "_sample_weight = np.array(np.random.randn(n), dtype='single') * 8 + 75\n",
    "_samples_systolic = _systolic_population(_sample_weight)\n",
    "\n",
    "plt.scatter(_sample_weight, _samples_systolic)\n",
    "plt.xlabel('weight (kg)')\n",
    "plt.ylabel('systolic pressure ($\\\\mathrm{mm} \\\\cdot \\\\mathrm{Hg}$)')\n",
    "plt.show()"
   ]
  },
  {
   "cell_type": "code",
   "execution_count": null,
   "metadata": {},
   "outputs": [],
   "source": [
    "## fit linear model using Ordinary Least Squares\n",
    "linreg = linear_model.LinearRegression().fit(_sample_weight.reshape((-1, 1)), _samples_systolic)"
   ]
  },
  {
   "cell_type": "code",
   "execution_count": null,
   "metadata": {},
   "outputs": [],
   "source": [
    "## preview regression result\n",
    "_fited = lambda w: linreg.coef_ * w + linreg.intercept_\n",
    "\n",
    "plt.scatter(_sample_weight, _samples_systolic)\n",
    "\n",
    "plt.plot([np.min(_sample_weight), np.max(_sample_weight)], \n",
    "         [_fited(np.min(_sample_weight)), _fited(np.max(_sample_weight))],\n",
    "         'r', linewidth=2, linestyle='--')\n",
    "\n",
    "plt.plot([np.min(_sample_weight), np.max(_sample_weight)], \n",
    "         [_fited(np.min(_sample_weight)), _fited(np.max(_sample_weight))],\n",
    "         'r', linewidth=2, linestyle='--')\n",
    "\n",
    "plt.xlabel('weight (kg)')\n",
    "plt.ylabel('systolic pressure ($\\\\mathrm{mm} \\\\cdot \\\\mathrm{Hg}$)')\n",
    "plt.show()"
   ]
  },
  {
   "cell_type": "code",
   "execution_count": null,
   "metadata": {},
   "outputs": [],
   "source": [
    "## evaluate the regression performance by calculating the R^2\n",
    "SST = np.sum((_samples_systolic - np.mean(_samples_systolic))**2)\n",
    "SSR = np.sum((_fited(_sample_weight) - np.mean(_samples_systolic))**2)\n",
    "SSE = np.sum((_samples_systolic - _fited(_sample_weight))**2)\n",
    "print('R2 =', SSR/SST)"
   ]
  },
  {
   "cell_type": "code",
   "execution_count": null,
   "metadata": {},
   "outputs": [],
   "source": [
    "## evalute the validity of the regression by F test\n",
    "_nu_r = 1\n",
    "_nu_e = np.size(_sample_weight)-2\n",
    "\n",
    "_f = (SSR / _nu_r) / (SSE / _nu_e)\n",
    "\n",
    "print('F statistic:', _f)\n",
    "print('p-value:', 1 - stats.f(_nu_r, _nu_e).cdf(_f))"
   ]
  },
  {
   "cell_type": "markdown",
   "metadata": {},
   "source": [
    "---\n",
    "\n",
    "## n > 1"
   ]
  },
  {
   "cell_type": "code",
   "execution_count": null,
   "metadata": {},
   "outputs": [],
   "source": [
    "_systolic_population_2 = lambda w,h,sig=1: (w-75)*0.4 + (h - 175)*0.2 + 110 + np.random.randn(*np.shape(w)) * sig\n",
    "\n",
    "n = 200\n",
    "_sample_weight = np.random.randn(n) * 8 + 75\n",
    "_sample_height = np.random.randn(n) * 10 + 175\n",
    "_samples_systolic = _systolic_population_2(_sample_weight, _sample_height, 3)\n",
    "\n",
    "# trace = go.Scatter3d(\n",
    "#     x=_sample_weight,\n",
    "#     y=_sample_height,\n",
    "#     z=_samples_systolic,\n",
    "#     mode='markers',\n",
    "# )\n",
    "\n",
    "# fig = go.Figure(data=[trace])\n",
    "# plot(fig)"
   ]
  },
  {
   "cell_type": "code",
   "execution_count": null,
   "metadata": {},
   "outputs": [],
   "source": [
    "linreg = linear_model.LinearRegression().fit(np.vstack((_sample_weight, _sample_height)).T, _samples_systolic)\n",
    "\n",
    "_fited = lambda w,h: linreg.coef_[0] * w + linreg.coef_[1] * h + linreg.intercept_"
   ]
  },
  {
   "cell_type": "code",
   "execution_count": null,
   "metadata": {},
   "outputs": [],
   "source": [
    "# R^2\n",
    "SST = np.sum((_samples_systolic - np.mean(_samples_systolic))**2)\n",
    "SSR = np.sum((_fited(_sample_weight, _sample_height) - np.mean(_samples_systolic))**2)\n",
    "SSE = np.sum((_samples_systolic - _fited(_sample_weight, _sample_height))**2)\n",
    "\n",
    "print('R2 =', SSR / SST)"
   ]
  },
  {
   "cell_type": "code",
   "execution_count": null,
   "metadata": {},
   "outputs": [],
   "source": [
    "# F-test\n",
    "_nu_r = 2\n",
    "_nu_e = np.size(_sample_weight)-1-_nu_r\n",
    "\n",
    "_f = (SSR/_nu_r) / (SSE / _nu_e)\n",
    "print('F statistic:', _f)\n",
    "print('p-value:', 1 - stats.f(_nu_r, _nu_e).cdf(_f))"
   ]
  },
  {
   "cell_type": "markdown",
   "metadata": {},
   "source": [
    "---"
   ]
  },
  {
   "cell_type": "code",
   "execution_count": null,
   "metadata": {},
   "outputs": [],
   "source": []
  }
 ],
 "metadata": {
  "kernelspec": {
   "display_name": "Python 3",
   "language": "python",
   "name": "python3"
  },
  "language_info": {
   "codemirror_mode": {
    "name": "ipython",
    "version": 3
   },
   "file_extension": ".py",
   "mimetype": "text/x-python",
   "name": "python",
   "nbconvert_exporter": "python",
   "pygments_lexer": "ipython3",
   "version": "3.6.7"
  }
 },
 "nbformat": 4,
 "nbformat_minor": 2
}
