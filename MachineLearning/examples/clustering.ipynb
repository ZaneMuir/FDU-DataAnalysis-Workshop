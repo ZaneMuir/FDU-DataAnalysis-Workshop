{
 "cells": [
  {
   "cell_type": "code",
   "execution_count": null,
   "metadata": {},
   "outputs": [],
   "source": [
    "import h5py\n",
    "import numpy as np\n",
    "import pandas as pd\n",
    "import matplotlib.pyplot as plt\n",
    "import scipy.stats as stats\n",
    "\n",
    "from sklearn.decomposition import PCA\n",
    "from sklearn.cluster import KMeans"
   ]
  },
  {
   "cell_type": "code",
   "execution_count": null,
   "metadata": {},
   "outputs": [],
   "source": [
    "with h5py.File('spike_waveform.hdf5', 'r') as _f:\n",
    "    waveform = np.array(_f['waveform'])\n",
    "    unit = np.array(_f['unit'])\n",
    "    frequency = np.array(_f['frequency'])\n",
    "    spike_train = np.array(_f['spike_train'])\n",
    "    \n",
    "tspec = np.linspace(-30/frequency, 30/frequency, 60) * 1000"
   ]
  },
  {
   "cell_type": "code",
   "execution_count": null,
   "metadata": {},
   "outputs": [],
   "source": [
    "plt.figure(figsize=(8,6))\n",
    "plt.plot(tspec, waveform[::5,:].T, 'k', alpha=0.1)\n",
    "plt.show()"
   ]
  },
  {
   "cell_type": "code",
   "execution_count": null,
   "metadata": {},
   "outputs": [],
   "source": [
    "_proj = PCA(n_components=5).fit_transform(waveform)"
   ]
  },
  {
   "cell_type": "code",
   "execution_count": null,
   "metadata": {},
   "outputs": [],
   "source": [
    "plt.figure(figsize=(6,6))\n",
    "plt.scatter(_proj[:, 0], _proj[:, 1], s=3, alpha=0.5)\n",
    "\n",
    "plt.xlim((-0.3, 0.3))\n",
    "plt.ylim((-0.3, 0.3))\n",
    "plt.show()"
   ]
  },
  {
   "cell_type": "code",
   "execution_count": null,
   "metadata": {},
   "outputs": [],
   "source": [
    "y_pred = KMeans(n_clusters=3).fit_predict(_proj[:, :3])\n",
    "\n",
    "plt.figure(figsize=(8,8))\n",
    "\n",
    "for group in np.unique(y_pred):\n",
    "    _subgroup = y_pred == group\n",
    "    plt.scatter(_proj[_subgroup, 0], _proj[_subgroup, 1], s=3, alpha=0.5)\n",
    "\n",
    "plt.xlim((-0.3, 0.3))\n",
    "plt.ylim((-0.3, 0.3))\n",
    "plt.show()"
   ]
  },
  {
   "cell_type": "code",
   "execution_count": null,
   "metadata": {},
   "outputs": [],
   "source": [
    "group_n = np.size(np.unique(y_pred))\n",
    "plt.figure(figsize=(6*group_n,4))\n",
    "\n",
    "for idx, group in enumerate(np.unique(y_pred)):\n",
    "    plt.subplot(1,group_n, idx+1)\n",
    "    _subgroup = y_pred == group\n",
    "    plt.plot(tspec, waveform[_subgroup].T, 'k', alpha=0.1)\n",
    "    plt.plot(tspec, np.mean(waveform[_subgroup], 0), 'r', linewidth=2)\n",
    "    plt.ylim((-0.2, 0.1))\n",
    "    \n",
    "# plt.plot(tspec, waveform[::5,:].T, 'k', alpha=0.1)\n",
    "plt.show()"
   ]
  }
 ],
 "metadata": {
  "kernelspec": {
   "display_name": "Python 3",
   "language": "python",
   "name": "python3"
  },
  "language_info": {
   "codemirror_mode": {
    "name": "ipython",
    "version": 3
   },
   "file_extension": ".py",
   "mimetype": "text/x-python",
   "name": "python",
   "nbconvert_exporter": "python",
   "pygments_lexer": "ipython3",
   "version": "3.6.7"
  }
 },
 "nbformat": 4,
 "nbformat_minor": 2
}
