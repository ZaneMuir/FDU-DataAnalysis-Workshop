{
 "cells": [
  {
   "cell_type": "markdown",
   "metadata": {},
   "source": [
    "# Example 3\n",
    "\n",
    "图像的本质也是一个矩阵，图像处理的本质也就是对矩阵的操作。\n",
    "本示例选择了对图像的简单处理和分析，来让大家对numpy在做一定的了解和熟悉\n",
    "\n",
    "需要完成的任务有：\n",
    "1. 将彩色的图像转化为黑白图像\n",
    "2. 计算rgb的柱状图数据(即统计单一颜色的不同亮度下的像素个数)\n",
    "\n",
    "![](./Rick_and_Morty_characters.jpg)\n",
    "\n",
    "---\n",
    "背景知识：\n",
    "\n",
    "- [RGB](https://en.wikipedia.org/wiki/RGB_color_model)\n",
    "- [影像直方图](https://en.wikipedia.org/wiki/Image_histogram)\n",
    "- [灰度](https://en.wikipedia.org/wiki/Grayscale)\n",
    "\n",
    "---\n",
    "- numpy的函数\n",
    "- 三维张量的操作\n",
    "- 数据类型"
   ]
  },
  {
   "cell_type": "code",
   "execution_count": null,
   "metadata": {},
   "outputs": [],
   "source": [
    "# 导入模块\n",
    "%matplotlib inline\n",
    "from dataset import Dataset\n",
    "import matplotlib.pyplot as plt\n",
    "import numpy as np\n",
    "\n",
    "# 导入数据\n",
    "demodata = Dataset()\n",
    "pic = demodata.load('example3')\n",
    "\n",
    "# 预览图像\n",
    "plt.imshow(pic)\n",
    "plt.show()"
   ]
  },
  {
   "cell_type": "code",
   "execution_count": null,
   "metadata": {},
   "outputs": [],
   "source": [
    "# 彩色转化为黑白灰度图像\n",
    "\n",
    "# your code here\n",
    "# mono = ...\n",
    "\n",
    "# 检验结果\n",
    "# demodata.show_mono(mono)"
   ]
  },
  {
   "cell_type": "code",
   "execution_count": null,
   "metadata": {},
   "outputs": [],
   "source": [
    "# 计算直方图\n",
    "\n",
    "# your code here\n",
    "# v_r, _ = ...\n",
    "# v_g, _ = ...\n",
    "# v_b, _ = ...\n",
    "\n",
    "# 检验结果\n",
    "# demodata.show_histogram(v_r, v_g, v_b)"
   ]
  }
 ],
 "metadata": {
  "kernelspec": {
   "display_name": "Python 3",
   "language": "python",
   "name": "python3"
  },
  "language_info": {
   "codemirror_mode": {
    "name": "ipython",
    "version": 3
   },
   "file_extension": ".py",
   "mimetype": "text/x-python",
   "name": "python",
   "nbconvert_exporter": "python",
   "pygments_lexer": "ipython3",
   "version": "3.6.7"
  }
 },
 "nbformat": 4,
 "nbformat_minor": 2
}
