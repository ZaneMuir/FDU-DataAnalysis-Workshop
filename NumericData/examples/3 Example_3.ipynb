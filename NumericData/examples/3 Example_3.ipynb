{
 "cells": [
  {
   "cell_type": "markdown",
   "metadata": {},
   "source": [
    "# Example 3\n",
    "\n",
    "图像的本质也是一个矩阵，图像处理的本质也就是对矩阵的操作。\n",
    "本示例选择了对图像的简单处理和分析，来让大家对numpy在做一定的了解和熟悉\n",
    "\n",
    "需要完成的任务有：\n",
    "1. 将彩色的图像转化为黑白图像\n",
    "2. 计算rgb的柱状图数据(即统计单一颜色的不同亮度下的像素个数)\n",
    "\n",
    "![](./Rick_and_Morty_characters.jpg)\n",
    "\n",
    "---\n",
    "背景知识：\n",
    "\n",
    "- [RGB](https://en.wikipedia.org/wiki/RGB_color_model)\n",
    "- [影像直方图](https://en.wikipedia.org/wiki/Image_histogram)\n",
    "- [灰度](https://en.wikipedia.org/wiki/Grayscale)"
   ]
  },
  {
   "cell_type": "code",
   "execution_count": null,
   "metadata": {},
   "outputs": [],
   "source": [
    "# 导入模块\n",
    "from dataset import Dataset\n",
    "import matplotlib.pyplot as plt\n",
    "import numpy as np\n",
    "\n",
    "# 导入数据\n",
    "demodata = Dataset()\n",
    "pic = demodata.load('example3')"
   ]
  },
  {
   "cell_type": "code",
   "execution_count": null,
   "metadata": {},
   "outputs": [],
   "source": [
    "# 彩色转化为黑白灰度图像\n",
    "\n",
    "# your code here\n",
    "# mono = ...\n",
    "\n",
    "# 检验结果\n",
    "demodata.show_mono(mono)"
   ]
  },
  {
   "cell_type": "code",
   "execution_count": null,
   "metadata": {},
   "outputs": [],
   "source": [
    "# 计算直方图\n",
    "\n",
    "# your code here\n",
    "# v_r, _ = ...\n",
    "# v_g, _ = ...\n",
    "# v_b, _ = ...\n",
    "\n",
    "# 检验结果\n",
    "demodata.show_histogram(v_r, v_g, v_b)"
   ]
  },
  {
   "cell_type": "markdown",
   "metadata": {},
   "source": [
    "---"
   ]
  },
  {
   "cell_type": "code",
   "execution_count": null,
   "metadata": {},
   "outputs": [],
   "source": [
    "# 参考答案\n",
    "\n",
    "# Y = 0.3333R + 0.3333G + 0.3333B\n",
    "mono = np.sum(pic // 3, 2, dtype='uint8')  \n",
    "\n",
    "# CIE 1931: Y = 0.2126R + 0.7152G + 0.0722B \n",
    "mono = np.array(np.floor(pic[:,:,0] * 0.2126 + pic[:,:,1] * 0.7152 + pic[:,:,2] * 0.0722), dtype='uint8')\n",
    "\n",
    "# 检验结果\n",
    "demodata.show_mono(mono)\n",
    "\n",
    "%%time\n",
    "# 计算直方图\n",
    "v_r, _ = np.histogram(pic[:,:,0].flatten(), range=(0, 256), bins=256)\n",
    "v_g, _ = np.histogram(pic[:,:,1].flatten(), range=(0, 256), bins=256)\n",
    "v_b, _ = np.histogram(pic[:,:,2].flatten(), range=(0, 256), bins=256)\n",
    "\n",
    "# 检验结果\n",
    "demodata.show_histogram(v_r, v_g, v_b)"
   ]
  },
  {
   "cell_type": "code",
   "execution_count": null,
   "metadata": {},
   "outputs": [],
   "source": [
    "%%time\n",
    "x = range(256)\n",
    "v_r = []\n",
    "v_g = []\n",
    "v_b = []\n",
    "\n",
    "for step in x:\n",
    "    \n",
    "    v_step_r = 0\n",
    "    for each in pic[:,:,0].flatten():\n",
    "        if each == step:\n",
    "            v_step_r += 1\n",
    "    v_r.append(v_step_r)\n",
    "    \n",
    "    v_step_g = 0\n",
    "    for each in pic[:,:,1].flatten():\n",
    "        if each == step:\n",
    "            v_step_g += 1\n",
    "    v_g.append(v_step_g)\n",
    "    \n",
    "    v_step_b = 0\n",
    "    for each in pic[:,:,2].flatten():\n",
    "        if each == step:\n",
    "            v_step_b += 1\n",
    "    v_b.append(v_step_b)"
   ]
  },
  {
   "cell_type": "code",
   "execution_count": null,
   "metadata": {},
   "outputs": [],
   "source": [
    "%%time\n",
    "x = range(256)\n",
    "v_r = []\n",
    "v_g = []\n",
    "v_b = []\n",
    "\n",
    "for step in x:\n",
    "    v_r.append(np.count_nonzero(pic[:,:,0].flatten() == step))\n",
    "    v_g.append(np.count_nonzero(pic[:,:,1].flatten() == step))\n",
    "    v_b.append(np.count_nonzero(pic[:,:,2].flatten() == step))"
   ]
  },
  {
   "cell_type": "code",
   "execution_count": null,
   "metadata": {},
   "outputs": [],
   "source": [
    "%%time\n",
    "x = range(256)\n",
    "\n",
    "v_r = [np.count_nonzero(pic[:,:,0].flatten() == step) for step in x]\n",
    "v_g = [np.count_nonzero(pic[:,:,1].flatten() == step) for step in x]\n",
    "v_b = [np.count_nonzero(pic[:,:,2].flatten() == step) for step in x]\n"
   ]
  }
 ],
 "metadata": {
  "kernelspec": {
   "display_name": "Python 3",
   "language": "python",
   "name": "python3"
  },
  "language_info": {
   "codemirror_mode": {
    "name": "ipython",
    "version": 3
   },
   "file_extension": ".py",
   "mimetype": "text/x-python",
   "name": "python",
   "nbconvert_exporter": "python",
   "pygments_lexer": "ipython3",
   "version": "3.6.7"
  }
 },
 "nbformat": 4,
 "nbformat_minor": 2
}
