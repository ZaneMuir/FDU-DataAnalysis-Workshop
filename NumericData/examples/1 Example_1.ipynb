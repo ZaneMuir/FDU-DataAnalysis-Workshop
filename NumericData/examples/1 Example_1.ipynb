{
 "cells": [
  {
   "cell_type": "markdown",
   "metadata": {},
   "source": [
    "# Example 1\n",
    "\n",
    "我们经常需要借鉴文献里一些好的方法，也常常可以找到一些统计或者数据处理的公式。\n",
    "当面对一些简单的公式时，我们就需要有一定的将公式转化为计算机指令的能力了。\n",
    "\n",
    "本示例选择了计算神经元[***方向选择性***](https://en.wikipedia.org/wiki/Motion_perception#Direction_selective_(DS)_cells)的公式(参考文献见下)\n",
    "\n",
    "$$ gDSI = \\frac{\\sum R(\\theta) \\cdot e^{\\theta i}}{\\sum R(\\theta)} $$\n",
    "\n",
    "其中，$\\theta$为视觉刺激的方向(弧度)，R为该方向下神经元的活动相对强度(标准化后，范围为0-1)。\n",
    "\n",
    "请完成下方`calc_gDSI`函数，接受`theta`, `R`两个参数，计算并返回gDSI值。\n",
    "\n",
    "---\n",
    "[Shi et al., “Retinal Origin of Direction Selectivity in the Superior Colliculus.”](http://dx.doi.org/10.1038/nn.4498)\n",
    "\n",
    "背景知识点：\n",
    "\n",
    "- [求和符号$\\sum$](https://en.wikipedia.org/wiki/Summation#Capital-sigma_notation)\n",
    "- [复数](https://en.wikipedia.org/wiki/Complex_number) (虚数在python中用`j`表示)\n",
    "- [欧拉公式](https://en.wikipedia.org/wiki/Euler%27s_formula)\n",
    "\n",
    "---\n",
    "\n",
    "- 数学符号\n",
    "- 复数与欧拉公式，及向量\n",
    "- 一维数组的操作"
   ]
  },
  {
   "cell_type": "code",
   "execution_count": null,
   "metadata": {},
   "outputs": [],
   "source": [
    "# 导入所需模块\n",
    "%matplotlib inline\n",
    "from dataset import Dataset\n",
    "import numpy as np\n",
    "\n",
    "# 导入数据\n",
    "demodata = Dataset()\n",
    "theta, R = demodata.load('example 1')"
   ]
  },
  {
   "cell_type": "code",
   "execution_count": null,
   "metadata": {},
   "outputs": [],
   "source": [
    "# 计算gDSI值\n",
    "def calc_gDSI(theta, R):\n",
    "    # your code here\n",
    "    pass"
   ]
  },
  {
   "cell_type": "code",
   "execution_count": null,
   "metadata": {},
   "outputs": [],
   "source": [
    "# 检验结果\n",
    "g_dsi = calc_gDSI(theta, R)\n",
    "demodata.show_gDSI(theta, R, g_dsi)"
   ]
  }
 ],
 "metadata": {
  "kernelspec": {
   "display_name": "Python 3",
   "language": "python",
   "name": "python3"
  },
  "language_info": {
   "codemirror_mode": {
    "name": "ipython",
    "version": 3
   },
   "file_extension": ".py",
   "mimetype": "text/x-python",
   "name": "python",
   "nbconvert_exporter": "python",
   "pygments_lexer": "ipython3",
   "version": "3.6.7"
  }
 },
 "nbformat": 4,
 "nbformat_minor": 2
}
