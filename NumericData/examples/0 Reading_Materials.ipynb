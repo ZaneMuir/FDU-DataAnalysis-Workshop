{
 "cells": [
  {
   "cell_type": "markdown",
   "metadata": {},
   "source": [
    "## Reading Materials\n",
    "\n",
    "- [HDF5](https://en.wikipedia.org/wiki/Hierarchical_Data_Format) (HDF5 python io module: [h5py](http://docs.h5py.org/en/stable/)) \n",
    "- [NumPy basics](https://docs.scipy.org/doc/numpy/user/basics.html)\n",
    "    - [Data types](https://docs.scipy.org/doc/numpy/user/basics.types.html)\n",
    "    - [Array creation](https://docs.scipy.org/doc/numpy/user/basics.creation.html)\n",
    "    - [Indexing](https://docs.scipy.org/doc/numpy/user/basics.indexing.html)\n",
    "    - [Broadcasting](https://docs.scipy.org/doc/numpy/user/basics.broadcasting.html)\n",
    "    \n",
    "\n",
    "- [vector](https://en.wikipedia.org/wiki/Vector_\\(mathematics_and_physics\\))\n",
    "- [matrix](https://en.wikipedia.org/wiki/Matrix_\\(mathematics\\))\n",
    "- [tensor](https://en.wikipedia.org/wiki/Tensor#As_multidimensional_arrays)\n",
    "- [dot product](https://en.wikipedia.org/wiki/Dot_product) (`np.dot()`)\n",
    "- [matrix product](https://en.wikipedia.org/wiki/Matrix_multiplication#Matrix_product_.28two_matrices.29) (`np.matmul()`)\n",
    "- [entrywise product](https://en.wikipedia.org/wiki/Hadamard_product_(matrices)) (`*`)\n",
    "- [cross product](https://en.wikipedia.org/wiki/Cross_product) (`np.cross()`)"
   ]
  }
 ],
 "metadata": {
  "kernelspec": {
   "display_name": "Python 3",
   "language": "python",
   "name": "python3"
  },
  "language_info": {
   "codemirror_mode": {
    "name": "ipython",
    "version": 3
   },
   "file_extension": ".py",
   "mimetype": "text/x-python",
   "name": "python",
   "nbconvert_exporter": "python",
   "pygments_lexer": "ipython3",
   "version": "3.6.7"
  }
 },
 "nbformat": 4,
 "nbformat_minor": 2
}
