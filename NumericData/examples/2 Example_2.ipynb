{
 "cells": [
  {
   "cell_type": "markdown",
   "metadata": {},
   "source": [
    "# Example 2\n",
    "\n",
    "有些时候，一些分析方法用语言描述会比较简单易懂，但用数学公式表达式虽然精确直白，但对数学的要求比较高。\n",
    "因而我们也需要一定的将概念转化为算法的能力。\n",
    "\n",
    "本示例选择了场电位(或脑电图)分析中常用的分析方法。\n",
    "\n",
    "ERPs (Event-related potentials) can be reliably measured using electroencephalography (EEG), a procedure that measures electrical activity of the brain over time using electrodes placed on the scalp. The EEG reflects thousands of simultaneously ongoing brain processes. This means that the brain response to a single stimulus or event of interest is not usually visible in the EEG recording of a single trial. To see the brain's response to a stimulus, the experimenter must conduct many trials and average the results together, causing random brain activity to be averaged out and the relevant waveform to remain, called the ERP.\n",
    "\n",
    "The random (background) brain activity together with other bio-signals (e.g., EOG, EMG, EKG) and electromagnetic interference (e.g., line noise, fluorescent lamps) constitute the noise contribution to the recorded ERP. This noise obscures the signal of interest, which is the sequence of underlying ERPs under study. From an engineering point of view it is possible to define the signal-to-noise ratio (SNR) of the recorded ERPs. The reason that averaging increases the SNR of the recorded ERPs (making them discernible and allowing for their interpretation) has a simple mathematical explanation provided that some simplifying assumptions are made. These assumptions are:\n",
    "\n",
    "1. The signal of interest is made of a sequence of event-locked ERPs with invariable latency and shape\n",
    "2. The noise can be approximated by a zero-mean Gaussian random process of variance ${\\displaystyle \\sigma ^{2}}$ which is uncorrelated between trials and not time-locked to the event (this assumption can be easily violated, for example in the case of a subject doing little tongue movements while mentally counting the targets in an oddball paradigm).\n",
    "\n",
    "阅读上方对ERP的说明（摘自维基百科），尝试计算所给数据的ERP。\n",
    "\n",
    "其中`signal`为场电位信号，`marker`为刺激起始的时刻。\n",
    "场电位采样频率为2000hz，刺激持续2秒，刺激间隔为3-7秒。\n",
    "\n",
    "---\n",
    "[Wikipedia#ERP](https://en.wikipedia.org/wiki/Event-related_potential)"
   ]
  },
  {
   "cell_type": "code",
   "execution_count": null,
   "metadata": {
    "scrolled": true
   },
   "outputs": [],
   "source": [
    "# 导入模块\n",
    "from dataset import Dataset\n",
    "import numpy as np\n",
    "import matplotlib.pyplot as plt\n",
    "\n",
    "# 导入数据\n",
    "demodata = Dataset()\n",
    "\n",
    "freq = 2000\n",
    "signal, marker = demodata.load('example2', stim_len = 2, fs = freq)"
   ]
  },
  {
   "cell_type": "code",
   "execution_count": null,
   "metadata": {
    "scrolled": true
   },
   "outputs": [],
   "source": [
    "# 计算ERP\n",
    "\n",
    "# your code here\n",
    "# myerp = ..."
   ]
  },
  {
   "cell_type": "code",
   "execution_count": null,
   "metadata": {
    "scrolled": true
   },
   "outputs": [],
   "source": [
    "# 检验结果\n",
    "demodata.show_ERP(erp=myerp)"
   ]
  },
  {
   "cell_type": "markdown",
   "metadata": {},
   "source": [
    "---"
   ]
  },
  {
   "cell_type": "code",
   "execution_count": null,
   "metadata": {
    "scrolled": true
   },
   "outputs": [],
   "source": [
    "# 参考答案\n",
    "epochs = np.array([ signal[int(item*freq):int((item+3)*freq)] for item in marker])\n",
    "myerp = np.mean(epochs, 0)"
   ]
  }
 ],
 "metadata": {
  "kernelspec": {
   "display_name": "Python 3",
   "language": "python",
   "name": "python3"
  },
  "language_info": {
   "codemirror_mode": {
    "name": "ipython",
    "version": 3
   },
   "file_extension": ".py",
   "mimetype": "text/x-python",
   "name": "python",
   "nbconvert_exporter": "python",
   "pygments_lexer": "ipython3",
   "version": "3.6.7"
  }
 },
 "nbformat": 4,
 "nbformat_minor": 2
}
