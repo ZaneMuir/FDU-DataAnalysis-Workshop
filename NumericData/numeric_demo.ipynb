{
 "cells": [
  {
   "cell_type": "markdown",
   "metadata": {
    "slideshow": {
     "slide_type": "skip"
    }
   },
   "source": [
    "## outline\n",
    "\n",
    "- read and write dataset\n",
    "- data types\n",
    "- mathematics\n",
    "- broadcasting\n",
    "- example"
   ]
  },
  {
   "cell_type": "markdown",
   "metadata": {
    "slideshow": {
     "slide_type": "skip"
    }
   },
   "source": [
    "## Reading Materials\n",
    "\n",
    "- [HDF5](https://en.wikipedia.org/wiki/Hierarchical_Data_Format) (HDF5 python io module: [h5py](http://docs.h5py.org/en/stable/)) \n",
    "- [NumPy basics](https://docs.scipy.org/doc/numpy/user/basics.html)\n",
    "    - [Data types](https://docs.scipy.org/doc/numpy/user/basics.types.html)\n",
    "    - [Array creation](https://docs.scipy.org/doc/numpy/user/basics.creation.html)\n",
    "    - [Indexing](https://docs.scipy.org/doc/numpy/user/basics.indexing.html)\n",
    "    - [Broadcasting](https://docs.scipy.org/doc/numpy/user/basics.broadcasting.html)\n",
    "    \n",
    "\n",
    "- [vector](https://en.wikipedia.org/wiki/Vector_(mathematics_and_physics))\n",
    "- [matrix](https://en.wikipedia.org/wiki/Matrix_(mathematics))\n",
    "- [tensor](https://en.wikipedia.org/wiki/Tensor#As_multidimensional_arrays)\n",
    "- [dot product](https://en.wikipedia.org/wiki/Dot_product) (`np.dot()`)\n",
    "- [matrix product](https://en.wikipedia.org/wiki/Matrix_multiplication#Matrix_product_.28two_matrices.29) (`np.matmul()`)\n",
    "- [entrywise product](https://en.wikipedia.org/wiki/Hadamard_product_(matrices)) (`*`)\n",
    "- [cross product](https://en.wikipedia.org/wiki/Cross_product) (`np.cross()`)"
   ]
  },
  {
   "cell_type": "markdown",
   "metadata": {
    "slideshow": {
     "slide_type": "slide"
    }
   },
   "source": [
    "# Numpy Demo\n",
    "\n",
    "- read and write dataset\n",
    "- data types\n",
    "- mathematics\n",
    "- broadcasting\n",
    "- review example"
   ]
  },
  {
   "cell_type": "markdown",
   "metadata": {
    "slideshow": {
     "slide_type": "slide"
    }
   },
   "source": [
    "## Math Operations in Numpy\n",
    "\n",
    "- vector, matrix, tensor\n",
    "- dot product\n",
    "- matrix product\n",
    "- entrywise product\n",
    "- cross product"
   ]
  },
  {
   "cell_type": "code",
   "execution_count": null,
   "metadata": {},
   "outputs": [],
   "source": [
    "import numpy as np"
   ]
  },
  {
   "cell_type": "markdown",
   "metadata": {},
   "source": [
    "### ndarray"
   ]
  },
  {
   "cell_type": "code",
   "execution_count": null,
   "metadata": {},
   "outputs": [],
   "source": [
    "# vector\n",
    "\n",
    "v = np.array([1,2,3,4,5,6,7,8,9,10])\n",
    "v\n",
    "# Number of dimensions\n",
    "v.ndim\n",
    "# Dimensions\n",
    "v.shape\n",
    "# Size of elements\n",
    "v.size\n",
    "# Data type\n",
    "v.dtype"
   ]
  },
  {
   "cell_type": "code",
   "execution_count": null,
   "metadata": {},
   "outputs": [],
   "source": [
    "# matrix\n",
    "\n",
    "m = np.array([\n",
    "    [1,2,3], \n",
    "    [4,5,6]\n",
    "])\n",
    "\n",
    "print (m)\n",
    "print (\"m ndim: \", m.ndim)\n",
    "print (\"m shape:\", m.shape)\n",
    "print (\"m size: \", m.size)\n",
    "print (\"m dtype: \", m.dtype)"
   ]
  },
  {
   "cell_type": "code",
   "execution_count": null,
   "metadata": {},
   "outputs": [],
   "source": [
    "# tensor\n",
    "\n",
    "t = np.array([\n",
    "    [[1,2,3], \n",
    "     [3,4,5]], \n",
    "    [[5,6,7], \n",
    "     [7,8,9]]])\n",
    "\n",
    "print (t)\n",
    "print (\"t ndim: \", t.ndim)\n",
    "print (\"t shape:\", t.shape)\n",
    "print (\"t size: \", t.size)\n",
    "print (\"t dtype: \", t.dtype)"
   ]
  },
  {
   "cell_type": "code",
   "execution_count": null,
   "metadata": {},
   "outputs": [],
   "source": [
    "# Arrays from Functions\n",
    "z = np.zeros((2,3,4,7,9))\n",
    "z = np.zeros_like(m)\n",
    "\n",
    "o = np.ones((2,3))\n",
    "o = np.ones_like(m)\n",
    "\n",
    "r = np.random.random((2,3))\n",
    "r = np.random.randn(2,3)\n"
   ]
  },
  {
   "cell_type": "markdown",
   "metadata": {},
   "source": [
    "### Indexing"
   ]
  },
  {
   "cell_type": "code",
   "execution_count": null,
   "metadata": {},
   "outputs": [],
   "source": [
    "# indexing and slicing\n",
    "print(v)\n",
    "v[9]\n",
    "v[1:8]\n",
    "v[1:9:2]"
   ]
  },
  {
   "cell_type": "code",
   "execution_count": null,
   "metadata": {},
   "outputs": [],
   "source": [
    "# integer array indexing\n",
    "v[[1,3,5]]"
   ]
  },
  {
   "cell_type": "code",
   "execution_count": null,
   "metadata": {},
   "outputs": [],
   "source": [
    "# Boolean array indexing\n",
    "v < 4\n",
    "v[v > 9 | v<=8]"
   ]
  },
  {
   "cell_type": "markdown",
   "metadata": {},
   "source": [
    "### Basic Math"
   ]
  },
  {
   "cell_type": "code",
   "execution_count": null,
   "metadata": {},
   "outputs": [],
   "source": [
    "np.sin, np.cos, np.tan\n",
    "np.exp, np.log, np.log10\n",
    "np.fft.fft, np.fft.ifft"
   ]
  },
  {
   "cell_type": "code",
   "execution_count": null,
   "metadata": {},
   "outputs": [],
   "source": [
    "# Transposing\n",
    "m.transpose()\n",
    "m.T"
   ]
  },
  {
   "cell_type": "code",
   "execution_count": null,
   "metadata": {},
   "outputs": [],
   "source": [
    "# entrywise\n",
    "m * m\n",
    "\n",
    "# dot and matrix product\n",
    "\n",
    "np.dot(v, v)\n",
    "np.matmul(m, m.T)"
   ]
  },
  {
   "cell_type": "code",
   "execution_count": null,
   "metadata": {},
   "outputs": [],
   "source": [
    "m.shape"
   ]
  },
  {
   "cell_type": "code",
   "execution_count": null,
   "metadata": {},
   "outputs": [],
   "source": [
    "# operation across a dimension\n",
    "print(m)\n",
    "np.sum(m, 1)\n",
    "\n",
    "s = np.random.randn(10, 200)\n",
    "np.mean(s, 1)"
   ]
  },
  {
   "cell_type": "markdown",
   "metadata": {
    "slideshow": {
     "slide_type": "slide"
    }
   },
   "source": [
    "### Advanced Operations\n"
   ]
  },
  {
   "cell_type": "code",
   "execution_count": null,
   "metadata": {},
   "outputs": [],
   "source": [
    "# broadcasting\n",
    "\n",
    "v1 = np.random.rand(5,3,4)\n",
    "v2 = np.random.rand(5,1,4)\n",
    "v3 = np.random.rand(1,3,4)\n",
    "\n",
    "v1 * v2 * v3"
   ]
  },
  {
   "cell_type": "code",
   "execution_count": null,
   "metadata": {},
   "outputs": [],
   "source": [
    "# flattening and reshaping\n",
    "m.reshape((1,6))"
   ]
  },
  {
   "cell_type": "code",
   "execution_count": null,
   "metadata": {},
   "outputs": [],
   "source": [
    "# concatenation\n",
    "np.concatenate((m,m),0)\n",
    "\n",
    "np.hstack((m,m)) # np.concatenate((m,m),1)\n",
    "np.vstack((m,m)) # np.concatenate((m,m),0)"
   ]
  },
  {
   "cell_type": "markdown",
   "metadata": {},
   "source": [
    "---"
   ]
  },
  {
   "cell_type": "markdown",
   "metadata": {
    "slideshow": {
     "slide_type": "slide"
    }
   },
   "source": [
    "## HDF5 and MAT"
   ]
  },
  {
   "cell_type": "code",
   "execution_count": null,
   "metadata": {},
   "outputs": [],
   "source": [
    "from scipy.io import loadmat, savemat\n",
    "\n",
    "M1 = np.array(np.random.rand(2, 100), dtype='f16')\n",
    "\n",
    "sample = {'M1': M1}\n",
    "\n",
    "savemat('test.mat', sample)\n",
    "\n",
    "a = loadmat('test.mat')\n",
    "a['M1'].dtype\n",
    "# # tip: 1d vector would become 2d matrix automatically."
   ]
  },
  {
   "cell_type": "code",
   "execution_count": null,
   "metadata": {},
   "outputs": [],
   "source": [
    "a = loadmat('test.mat')\n",
    "a\n",
    "a['M1'].shape"
   ]
  },
  {
   "cell_type": "markdown",
   "metadata": {},
   "source": [
    "---"
   ]
  },
  {
   "cell_type": "code",
   "execution_count": null,
   "metadata": {
    "scrolled": true
   },
   "outputs": [],
   "source": [
    "import h5py\n",
    "\n",
    "# create dataset\n",
    "\n",
    "sample_f = h5py.File('sample.h5', 'w')\n",
    "\n",
    "sample_f.create_group('matrix')\n",
    "\n",
    "sample_f.create_dataset('matrix/3darray', data=np.zeros((10, 100, 20), dtype='f8'))\n",
    "\n",
    "sample_f.create_dataset('matrix/1darray', data=np.ones(44100*60, dtype='int16'), compression=4)\n",
    "\n",
    "sample_f['matrix/2darray'] = np.random.rand(100, 100)\n",
    "\n",
    "sample_f.close()\n"
   ]
  },
  {
   "cell_type": "code",
   "execution_count": null,
   "metadata": {},
   "outputs": [],
   "source": [
    "# compression\n",
    "sample_f_data = np.ones(44100*60)\n",
    "sample_f_data = np.sin(np.linspace(0, 60, 44100*60))\n",
    "sample_f_data = np.random.random((44100*60,))\n",
    "\n",
    "sample_f = h5py.File('big_data.h5', 'w')\n",
    "sample_f['matrix'] = sample_f_data\n",
    "sample_f.close()\n",
    "\n",
    "sample_f = h5py.File('big_data_compression.h5', 'w')\n",
    "sample_f.create_dataset(name='matrix', data=sample_f_data, compression=4)\n",
    "sample_f.close()"
   ]
  },
  {
   "cell_type": "code",
   "execution_count": null,
   "metadata": {},
   "outputs": [],
   "source": [
    "# read in\n",
    "\n",
    "_f = h5py.File('sample.h5', 'r')\n",
    "\n",
    "# list(_f['matrix'].keys())\n",
    "\n",
    "a = _f['matrix']['1darray']\n",
    "b = np.array(_f['matrix/3darray'])\n",
    "\n",
    "_f.close()\n",
    "b.dtype"
   ]
  },
  {
   "cell_type": "code",
   "execution_count": null,
   "metadata": {},
   "outputs": [],
   "source": [
    "with h5py.File('sample.h5', 'r') as _f:\n",
    "    a = np.array(_f['matrix/2darray'])"
   ]
  }
 ],
 "metadata": {
  "kernelspec": {
   "display_name": "Python 3",
   "language": "python",
   "name": "python3"
  },
  "language_info": {
   "codemirror_mode": {
    "name": "ipython",
    "version": 3
   },
   "file_extension": ".py",
   "mimetype": "text/x-python",
   "name": "python",
   "nbconvert_exporter": "python",
   "pygments_lexer": "ipython3",
   "version": "3.6.7"
  }
 },
 "nbformat": 4,
 "nbformat_minor": 2
}
