{
 "cells": [
  {
   "cell_type": "code",
   "execution_count": null,
   "metadata": {},
   "outputs": [],
   "source": [
    "import matplotlib.pyplot as plt\n",
    "\n",
    "import numpy as np\n",
    "import pandas as pd\n",
    "\n",
    "import os, re, sys\n",
    "\n",
    "from dataset import Dataset\n",
    "demodata = Dataset()"
   ]
  },
  {
   "cell_type": "markdown",
   "metadata": {},
   "source": [
    "## Example 1: pyplot.plot"
   ]
  },
  {
   "cell_type": "code",
   "execution_count": null,
   "metadata": {
    "scrolled": true
   },
   "outputs": [],
   "source": [
    "freq = 30\n",
    "stim_len = 2\n",
    "n = 40\n",
    "\n",
    "signal, marker = demodata.load('example2', stim_len = stim_len, fs = freq, n=n)"
   ]
  },
  {
   "cell_type": "code",
   "execution_count": null,
   "metadata": {},
   "outputs": [],
   "source": [
    "tspec = np.linspace(1/freq, len(signal)/freq, len(signal))\n",
    "\n",
    "\n",
    "plt.figure(figsize=(15,3))\n",
    "\n",
    "plt.plot(tspec, signal)\n",
    "plt.vlines(marker, -6, -5)\n",
    "\n",
    "plt.xlim((0, tspec[-1]))\n",
    "# plt.ylim((-10, 10))\n",
    "\n",
    "plt.xticks(fontsize=24, rotation=30)\n",
    "plt.xlabel('time (sec)', fontsize=19) # pt\n",
    "\n",
    "plt.show()\n",
    "# plt.savefig('test.png', bbox_inches='tight')"
   ]
  },
  {
   "cell_type": "markdown",
   "metadata": {},
   "source": [
    "## Example 2: polar projection"
   ]
  },
  {
   "cell_type": "code",
   "execution_count": null,
   "metadata": {},
   "outputs": [],
   "source": [
    "theta, R = demodata.load('example 1')"
   ]
  },
  {
   "cell_type": "code",
   "execution_count": null,
   "metadata": {},
   "outputs": [],
   "source": [
    "plt.figure(figsize=(8,8))\n",
    "\n",
    "ax = plt.subplot(2,2,1, projection='polar')\n",
    "ax.scatter(theta, R, \n",
    "           label='noised data', marker='+',\n",
    "           color='k')\n",
    "\n",
    "plt.ylim((0, 1.5))\n",
    "plt.yticks([0, 0.5, 1.0, 1.5])\n",
    "plt.xticks([0, np.pi/2, np.pi, np.pi/2*3],\n",
    "           ['0', '$\\\\frac{\\\\pi}{2}$', '$\\\\pi$', '$\\\\frac{3\\\\pi}{2}$'],\n",
    "          fontsize=18)\n",
    "\n",
    "# latex math formula\n",
    "plt.legend()\n",
    "\n",
    "plt.show()"
   ]
  },
  {
   "cell_type": "markdown",
   "metadata": {},
   "source": [
    "## Example 3: heatmap and imshow"
   ]
  },
  {
   "cell_type": "code",
   "execution_count": null,
   "metadata": {},
   "outputs": [],
   "source": [
    "pic = demodata.load('example3')"
   ]
  },
  {
   "cell_type": "code",
   "execution_count": null,
   "metadata": {},
   "outputs": [],
   "source": [
    "plt.figure()\n",
    "\n",
    "plt.imshow(pic)\n",
    "\n",
    "plt.show()"
   ]
  },
  {
   "cell_type": "code",
   "execution_count": null,
   "metadata": {},
   "outputs": [],
   "source": [
    "heatmap = np.random.rand(5, 5)\n",
    "\n",
    "plt.imshow(heatmap, cmap=plt.get_cmap('gray'))\n",
    "\n",
    "plt.clim((-1,2))\n",
    "\n",
    "plt.colorbar()\n",
    "\n",
    "# plt.ylim((0, 100))\n",
    "plt.xticks([0,1,2,3,4],\n",
    "           ['A', 'B', 'C', 'D', 'E'])\n",
    "\n",
    "plt.title('this is a title', fontsize=24, fontweight='bold')\n",
    "\n",
    "plt.show()"
   ]
  },
  {
   "cell_type": "markdown",
   "metadata": {},
   "source": [
    "## Example 4: bar plot and error bar (error ribbon)"
   ]
  },
  {
   "cell_type": "code",
   "execution_count": null,
   "metadata": {},
   "outputs": [],
   "source": [
    "sheet = pd.read_csv(\"./Titanic.csv\")\n",
    "sheet.head(1)"
   ]
  },
  {
   "cell_type": "code",
   "execution_count": null,
   "metadata": {},
   "outputs": [],
   "source": [
    "pclass = []\n",
    "avg_age = []\n",
    "std_age = []\n",
    "\n",
    "for pclass_i in sheet.Pclass.unique():\n",
    "    \n",
    "    _tmp = sheet.Age[sheet.Pclass == pclass_i]\n",
    "    _tmp = _tmp[~np.isnan(_tmp)]\n",
    "    \n",
    "    pclass.append(pclass_i)\n",
    "    avg_age.append(np.mean(_tmp))\n",
    "    std_age.append(np.std(_tmp))\n",
    "\n",
    "\n",
    "plt.barh(pclass, avg_age, xerr=std_age)\n",
    "plt.yticks([1,2,3], ['first', 'second', 'third'])\n",
    "\n",
    "plt.show()"
   ]
  },
  {
   "cell_type": "code",
   "execution_count": null,
   "metadata": {},
   "outputs": [],
   "source": [
    "_epoch = np.array([signal[int(item * freq):int((item + stim_len) * freq)] for item in marker])\n",
    "\n",
    "trace_avg = np.mean(_epoch, 0)\n",
    "trace_std = np.std(_epoch, 0)\n",
    "\n",
    "tspec = np.linspace(1/20, 60/20, 60)\n",
    "\n",
    "plt.plot(tspec, trace_avg)\n",
    "plt.fill_between(tspec, trace_avg - trace_std, trace_avg + trace_std,\n",
    "                alpha=0.3)\n",
    "\n",
    "plt.show()"
   ]
  },
  {
   "cell_type": "markdown",
   "metadata": {},
   "source": [
    "## Example 5: subplots"
   ]
  },
  {
   "cell_type": "code",
   "execution_count": null,
   "metadata": {},
   "outputs": [],
   "source": [
    "plt.figure()\n",
    "\n",
    "ax = plt.subplot(2,1,1)\n",
    "\n",
    "ax.plot(np.random.rand(10))\n",
    "\n",
    "ax = plt.subplot(2,2,3)\n",
    "ax.plot(np.random.rand(10))\n",
    "\n",
    "ax = plt.subplot(2,2,4)\n",
    "ax.plot(np.random.rand(10))\n",
    "ax.set_title('lalala')\n",
    "\n",
    "plt.suptitle('wowowo')\n",
    "plt.show()"
   ]
  }
 ],
 "metadata": {
  "kernelspec": {
   "display_name": "Python 3",
   "language": "python",
   "name": "python3"
  },
  "language_info": {
   "codemirror_mode": {
    "name": "ipython",
    "version": 3
   },
   "file_extension": ".py",
   "mimetype": "text/x-python",
   "name": "python",
   "nbconvert_exporter": "python",
   "pygments_lexer": "ipython3",
   "version": "3.6.7"
  }
 },
 "nbformat": 4,
 "nbformat_minor": 2
}
