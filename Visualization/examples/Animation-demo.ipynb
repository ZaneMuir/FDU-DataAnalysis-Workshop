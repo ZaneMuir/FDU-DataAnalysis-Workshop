{
 "cells": [
  {
   "cell_type": "code",
   "execution_count": null,
   "metadata": {},
   "outputs": [],
   "source": [
    "import matplotlib.pyplot as plt\n",
    "# from multiprocessing import Pool  # for parallelism\n",
    "import numpy as np\n",
    "import os"
   ]
  },
  {
   "cell_type": "code",
   "execution_count": null,
   "metadata": {},
   "outputs": [],
   "source": [
    "%%html\n",
    "# preview\n",
    "<iframe width=\"800\" height=\"400\" src=\"./preview.webm\" frameborder=\"0\">\n",
    "</iframe>"
   ]
  },
  {
   "cell_type": "code",
   "execution_count": null,
   "metadata": {},
   "outputs": [],
   "source": [
    "# todo\n",
    "def _step(degree):\n",
    "    \n",
    "    circle=plt.Circle((-1.5,0),1,color='k', fill=False)\n",
    "    plt.gcf().gca().add_artist(circle)\n",
    "    \n",
    "    plt.plot([-1.5, np.cos(degree)-1.5], [0, np.sin(degree)])\n",
    "    \n",
    "    plt.scatter([0.5],[np.sin(degree)])\n",
    "    plt.plot([np.cos(degree)-1.5, 0.5, 0.5],\n",
    "             [np.sin(degree), np.sin(degree), 0])\n",
    "    \n",
    "    tspec = np.linspace(0.5, 3, 1000)\n",
    "    trace = np.sin(np.linspace(-np.pi, np.pi, 1000)-degree)\n",
    "    plt.plot(tspec, trace)\n",
    "    \n",
    "    plt.hlines(0, -4,4)\n",
    "    plt.vlines(0, -4,4)\n",
    "    \n",
    "    plt.xlim((-3,3))\n",
    "    plt.ylim((-1.5, 1.5))\n",
    "    \n",
    "    plt.xticks([])\n",
    "    plt.yticks([])\n",
    "\n",
    "plt.figure(figsize=(10,5))\n",
    "_step(np.pi/3)\n",
    "plt.show()"
   ]
  },
  {
   "cell_type": "code",
   "execution_count": null,
   "metadata": {},
   "outputs": [],
   "source": [
    "# 3 s\n",
    "# 25 fps\n",
    "# 25*3 f\n",
    "if not os.path.isdir('export'):\n",
    "    os.mkdir('export')\n",
    "\n",
    "for _circle in range(3):\n",
    "    for _idx in range(25*3):\n",
    "        _degree = 2*np.pi * _idx/(25*3)\n",
    "        plt.figure(figsize=(10,5))\n",
    "        _step(_degree)\n",
    "        # plt.show()\n",
    "        plt.savefig('./export/%05d.jpg'%(_circle*25*3+_idx))\n",
    "        plt.close()\n",
    "        \n"
   ]
  },
  {
   "cell_type": "markdown",
   "metadata": {},
   "source": [
    "---"
   ]
  },
  {
   "cell_type": "code",
   "execution_count": null,
   "metadata": {},
   "outputs": [],
   "source": [
    "os.system('ffmpeg -y -i export/%05d.jpg -r 25 -b:v 1M preview.mp4')"
   ]
  }
 ],
 "metadata": {
  "kernelspec": {
   "display_name": "Python 3",
   "language": "python",
   "name": "python3"
  },
  "language_info": {
   "codemirror_mode": {
    "name": "ipython",
    "version": 3
   },
   "file_extension": ".py",
   "mimetype": "text/x-python",
   "name": "python",
   "nbconvert_exporter": "python",
   "pygments_lexer": "ipython3",
   "version": "3.6.7"
  }
 },
 "nbformat": 4,
 "nbformat_minor": 2
}
