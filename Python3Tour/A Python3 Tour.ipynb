{
  "cells": [
    {
      "cell_type": "markdown",
      "source": [
        "# A Python3 Tour\n",
        "\n",
        "下学期的数据分析workshop将会更关注于数据分析的策略、原理、应用上。为了能够涵盖更广泛的数据类型，同时兼顾上手的难度；我们选择了Python3作为数据分析的工具。\n",
        "\n",
        "在这里只是对Python3中我们可能会涉及到的概念和知识点做一简单的罗列和简述。如果大家对其中任何一个概念有不清楚的地方，还请利用这个假期补充补充知识。\n",
        "\n",
        "如果有问题，很欢迎提问；但希望大家能够在提问前先做到以下几点：\n",
        "\n",
        "1. 是否阅读了官方文档和其他论坛的说明\n",
        "1. 是否阅读了报错信息\n",
        "1. 是否在网络(推荐stackoverflow)上找过类似问题的解决方法\n",
        "\n",
        "如果依然有问题无法解决或者有概念无法理解，可以在github上建立issue，我会尽快给出答复或者建议，同时也可供其他人参考。\n",
        "\n---"
      ],
      "metadata": {
        "slideshow": {
          "slide_type": "slide"
        }
      }
    },
    {
      "cell_type": "markdown",
      "source": [
        "在学习一门新的编程语言时，输出\"Hello, world!\"几乎成为了一个传统。而在Python中，用一句话就可以实现。\n",
        "```python\n",
        "print(\"Hello, world!\")\n",
        "```"
      ],
      "metadata": {
        "slideshow": {
          "slide_type": "slide"
        }
      }
    },
    {
      "cell_type": "code",
      "source": [
        "# demo\n",
        "print(\"Hello, world!\")"
      ],
      "outputs": [],
      "execution_count": null,
      "metadata": {
        "slideshow": {
          "slide_type": "fragment"
        }
      }
    },
    {
      "cell_type": "markdown",
      "source": [
        "Python不需要用`main()`函数来作为程序的入口，而是直接自动的依次执行写在全局域里的代码；同时，也不需要在每一个语句结束时写上`;`。"
      ],
      "metadata": {
        "slideshow": {
          "slide_type": "fragment"
        }
      }
    },
    {
      "cell_type": "markdown",
      "source": [
        "## Content\n",
        "- [Simple Values and Mutability](#Simple-Values-and-Mutability)\n",
        "- [Control Flow](#Control-Flow)\n",
        "- [Data Collections](#Data-Collections)\n",
        "- [Functions and Closures](#Functions-and-Closures)\n",
        "- [Objects and Classes](#Objects-and-Classes)\n",
        "- [Error Handling](#Error-Handling)\n",
        "- [More on Styles](#More-on-Styles)\n",
        "- [Further Reading](#Further-Reading)"
      ],
      "metadata": {}
    },
    {
      "cell_type": "markdown",
      "source": [
        "## Simple Values and Mutability\n",
        "\n",
        "Python是一门动态的语言，意味着一个变量名可以被先后赋予不同类型的数据；同时，Python并不会严格区分变量和常量，也不需要在赋值前对变量名进行声明。Python的基本数据类型包括整数型`int`，浮点数型`float`，布尔型`bool`，字符串`str`。【不同于其他大多数语言，Python没有区分数据类型的精度。】\n",
        "\n",
        "在Python中，字符串可以用`'`或者`\"`表示，两者没有本质区别。也可以用`\"\"\"`来表示包含多行的字符串\n",
        "```python\n",
        "\"\"\"\n",
        "this string \n",
        "contains \n",
        "multiple lines\n",
        "\"\"\"\n",
        "```"
      ],
      "metadata": {
        "slideshow": {
          "slide_type": "slide"
        }
      }
    },
    {
      "cell_type": "code",
      "source": [
        "## Demo\n",
        "\n",
        "variable = 1  #整数型 int\n",
        "print(\"variable =\", variable)\n",
        "\n",
        "variable = 1.0  #浮点数型 float\n",
        "print(\"variable = %.2f\"%(variable))\n",
        "\n",
        "variable = True  #bool\n",
        "\n",
        "variable = \"1\"  #字符串 str\n",
        "print(\"variable = {}\".format(variable))"
      ],
      "outputs": [],
      "execution_count": null,
      "metadata": {
        "slideshow": {
          "slide_type": "fragment"
        }
      }
    },
    {
      "cell_type": "markdown",
      "source": [
        "## Data Collections\n",
        "\n",
        "除了基本数据类型，Python还有几种数据集合：\n",
        "- 列表 `list`\n",
        "- 元组 `tuple`\n",
        "- 集合 `set`\n",
        "- 字典 `dict`\n",
        "\n",
        "__列表__ 为一种有序的数据集合，内部的每个单元可以是不同的数据类型，也可以是不同的数据集合；用`[ ]`或者`list(...)`来定义。特别的，Python里的索引从0开始。\n",
        "```python\n",
        "[1, 1.0, 'hello', ['another', 'list'], ]\n",
        "```\n",
        "\n",
        "__元组__ 与列表一样也是一种有序的数据集合，与列表最大的区别在于元组内部的数据是不可改变的(其实是地址不可变)；用`( )`或者`tuple(...)`来定义。特别的，只有一个元素的元组需要在第一元素后面加上`,`。\n",
        "```python\n",
        "(1, 1.0, 'hello', ['another', 'list'])\n",
        "(1,) # 这是一个只有一个元素的元组\n",
        "(1)  # 这不是元组，而是加了括号的1\n",
        "```\n"
      ],
      "metadata": {
        "slideshow": {
          "slide_type": "slide"
        }
      }
    },
    {
      "cell_type": "code",
      "source": [
        "## Demo\n",
        "a = [1,2,3]  # list\n",
        "print(a)\n",
        "\n",
        "## concatenation\n",
        "b = a + [10, 11, 12, 55, 56, 57]\n",
        "print(b)\n",
        "\n",
        "## indexing\n",
        "c = b[3:5]  # a[i:j] ==> i <= idx < j\n",
        "print(c)\n",
        "\n",
        "## length\n",
        "d = len(a)\n",
        "print(d)\n",
        "\n",
        "## maximum, minimum\n",
        "e = max(a), min(a)\n",
        "print(e)\n",
        "\n",
        "## existence\n",
        "f = 1 not in a\n",
        "print(f)\n",
        "\n",
        "## repeating\n",
        "g = a * 3\n",
        "print(g)"
      ],
      "outputs": [],
      "execution_count": null,
      "metadata": {}
    },
    {
      "cell_type": "markdown",
      "source": [
        "__集合__ ，顾名思义，与数学里的集合概念相对应。因而内部元素的值都是唯一的，彼此不相等的；用`{ }`或者`set(...)`来定义。\n",
        "```python\n",
        "set([1, 1.0, 'hello']) #==> {1, 'hello'}\n",
        "```\n",
        "\n",
        "__字典__ 是一种 键-值 形式的数据集合。像字典一样，每一个值都有一个keyword来作为索引。用`{key: value}`来定义。\n",
        "```python\n",
        "{'key1': 'value1',\n",
        " 2: 434,\n",
        " 3.4: [1, 1.0, 'hello'],\n",
        "}\n",
        "```"
      ],
      "metadata": {}
    },
    {
      "cell_type": "code",
      "source": [
        "## Demo\n",
        "a = {'fruits':['apple', 'banana', 'cherry', 'durian', 'grape'],\n",
        "     'price': [12,33,5,12,3],\n",
        "     'date':'19-01-08'}\n",
        "_ = dict([('one', 1), ('two', 2), ('three', 3)])\n",
        "print(a)\n",
        "\n",
        "## length\n",
        "b = len(a)\n",
        "print(b)\n",
        "\n",
        "## queueing d[key], d.items, d.keys, d.values\n",
        "print(a['fruits'])\n",
        "print(a.items())\n",
        "print(a.keys())\n",
        "print(a.values())\n",
        "\n",
        "## update\n",
        "a[\"fruits\"] = \"none\"\n",
        "print(a)"
      ],
      "outputs": [],
      "execution_count": null,
      "metadata": {}
    },
    {
      "cell_type": "markdown",
      "source": [
        "## Control Flow\n",
        "\n",
        "Python使用空格缩进来代表代码块之间的关系。\n",
        "\n",
        "### 条件判断\n",
        "Syntax:\n",
        "```python\n",
        "if <判断条件 1>:\n",
        "    <判断1为真则执行这里的语句>\n",
        "    \n",
        "elif <判断条件 2>:\n",
        "    <判断2为真则执行这里的语句>\n",
        "    \n",
        "else:\n",
        "    <判断1，2为假则执行这里的语句>\n",
        "```\n",
        "\n",
        "特别的，条件判断还有一个缩写形式：\n",
        "```python\n",
        "a = 10\n",
        "b = 4 if a > 10 else 5\n",
        "```\n",
        "\n",
        "### 循环\n",
        "\n",
        "在循环中有两个特殊的控制符：\n",
        "- `continue`: 顾名思义，跳过下面的语句而直接进入下一个循环\n",
        "- `break`: 顾名思义，直接终止循环语句\n",
        "\n",
        "#### while 循环\n",
        "Syntax:\n",
        "```python\n",
        "while <判断条件>:\n",
        "    <判断为真则继续执行这里的语句>\n",
        "```\n",
        "\n",
        "#### for-in 循环\n",
        "形式最丰富也最灵活的一个控制语句。\n",
        "Basic Syntax:\n",
        "```python\n",
        "for <参数> in <被循环的对象>:\n",
        "    <循环执行的语句>\n",
        "```\n",
        "\n",
        "##### list comprehension\n",
        "Syntax:\n",
        "```python\n",
        "[<一行代码> for <参数> in <被循环的对象>]\n",
        "[<一行代码> for <参数> in <被循环的对象> if <参数的条件判断>]\n",
        "```"
      ],
      "metadata": {
        "slideshow": {
          "slide_type": "slide"
        }
      }
    },
    {
      "cell_type": "code",
      "source": [
        "## Demo\n",
        "for idx in range(4):\n",
        "    print('this is %d'%a[idx])\n",
        "print()\n",
        "\n",
        "a = [1,2,3,4,5]\n",
        "for item in a:\n",
        "    print('this is %d'%item)\n",
        "print()\n",
        "    \n",
        "b = {'apple':1, \"banana\":4, \"cherry\":5}\n",
        "for (k, v) in b.items():\n",
        "    print('the amount of %s is %d.'%(k, v))\n",
        "print()\n",
        "\n",
        "## range object\n",
        "[item ** 2 for item in a if item < 5]"
      ],
      "outputs": [],
      "execution_count": null,
      "metadata": {}
    },
    {
      "cell_type": "markdown",
      "source": [
        "## Functions and Closures\n",
        "a function is an object that maps a tuple of argument values to a return value.\n",
        "\n",
        "### Functions\n",
        "Syntax: \n",
        "```python\n",
        "def func_name(<参数列表>):\n",
        "    <函数语句块>\n",
        "```\n",
        "\n",
        "#### Return Keyword\n",
        "\n\n",
        "### Closures and Anonymous Funcitons\n",
        "Without parentheses, the expression function refers to the function object, and can be passed around like any value\n"
      ],
      "metadata": {
        "slideshow": {
          "slide_type": "slide"
        }
      }
    },
    {
      "cell_type": "code",
      "source": [
        "# Demo\n",
        "def hello(name, age = 12, height=180):\n",
        "    print('hello, %s! you are %d years old and %d cm height.'%(name, age, height))\n",
        "    \n",
        "hello(\"Jack\")\n",
        "\n",
        "a = [1,2,3,4,5,6,7,8,9,10]\n",
        "isodd = lambda x: x%2 == 1\n",
        "iseven = lambda x: x%2 == 0\n",
        "\n",
        "b = list(filter(iseven, a))\n",
        "print(b)\n",
        "\n",
        "c = list(map(isodd, a))\n",
        "print(c)\n",
        "\n",
        "def double_filter(arr, op):\n",
        "    double = lambda x: x*2\n",
        "    return list(map(double, filter(op, arr)))\n",
        "\n",
        "d = double_filter(a, iseven)\n",
        "print(d)\n",
        "\n",
        "def make_addition(sub):\n",
        "    def add_sub(x):\n",
        "        return x + sub\n",
        "    \n",
        "    return add_sub\n",
        "\n",
        "e = make_addition(5)\n",
        "print(e(5))\n",
        "    "
      ],
      "outputs": [],
      "execution_count": null,
      "metadata": {}
    },
    {
      "cell_type": "markdown",
      "source": [
        "## Objects and Classes\n",
        "\n",
        "编程中也存在着不同的范式或者模式，比较经典的范式包括有面向过程，面向对象，以及函数式编程。\n",
        "在上面，我们所讨论的内容主要集中在面向过程的编程，而闭包和匿名函数属于函数式编程的一部分。\n",
        "\n",
        "不难看出，面向过程的编程的核心在于算法，或者是中心在于解决问题的流程；强调的是流水线式的思考。\n",
        "而面向对象的编程不同，它的核心在于对不同的类的抽象，中心在于问题的本身或者说是数据本身；强调的是模块化的思考。\n",
        "\n",
        "- **类** 简单的说就是一个集合，其中包含了一些列与这个类相关的变量的定义，以及与该类有关的各类方法。\n",
        "- **对象** 简单的说就是类的实例化。\n",
        "\n",
        "面向对象的编程把世界描绘成主动性的“活物”之间的交互；而面向过程的编程则是有一个“上帝之手”，通过制定一系列规则来操纵一堆“死物”。\n",
        "\nhttps://www.zhihu.com/question/19701980/answer/12700411"
      ],
      "metadata": {
        "slideshow": {
          "slide_type": "slide"
        }
      }
    },
    {
      "cell_type": "code",
      "source": [
        "# demo\n",
        "class Beverage(object): # 定义新的类\n",
        "    def __init__(self, price, volumn, flavor, brand):  # 实例化时的入口，可以接受不同的参数。\n",
        "        self.price = price\n",
        "        self.volumn = volumn\n",
        "        self.flavor = flavor\n",
        "        self.brand = brand\n",
        "    \n",
        "    def sip(self, vol=10):  # 定义的类的方法\n",
        "        self.volumn -= vol  # self指代实例化后的对象本身。\n",
        "\n",
        "class PepsiCoke(Beverage):  # 这个操作为”继承“，PepsiCoke包含了Beverge的所以方法和变量\n",
        "    def __init__(self):\n",
        "        super().__init__(5, 330, 'coke', 'Pepsi')  # 初始化\n",
        "        \n",
        "    def refill(self):  # 添加额外的方法\n",
        "        self.volumn = 330\n",
        "\n",
        "a = PepsiCoke()\n",
        "a.sip()\n",
        "print(a.volumn)\n",
        "a.refill()\n",
        "print(a.volumn)"
      ],
      "outputs": [],
      "execution_count": null,
      "metadata": {}
    },
    {
      "cell_type": "markdown",
      "source": [
        "## Error Handling"
      ],
      "metadata": {
        "slideshow": {
          "slide_type": "slide"
        }
      }
    },
    {
      "cell_type": "code",
      "source": [
        "# demo\n",
        "a = [1,2,3,4]\n",
        "\n",
        "try:\n",
        "    b = a[4]\n",
        "except IndexError:\n",
        "    print('catch an index error')\n",
        "    b = 0\n",
        "except ValueError:\n",
        "    print('catch an value error')\n",
        "finally:\n",
        "    print('finally')\n",
        "print('finished')"
      ],
      "outputs": [],
      "execution_count": null,
      "metadata": {}
    },
    {
      "cell_type": "markdown",
      "source": [
        "## More on Styles\n",
        "\n",
        "- name variables and functions with meaningful names\n",
        "- comment necessary statements with precise words\n",
        "- make docstring for every callable function or method\n",
        "- keep everything simple \n",
        "- write functions, not just scripts\n",
        "- write functions with consistent argument ordering\n",
        "- split single file into multiple ones\n",
        "- don't overload built-in methods"
      ],
      "metadata": {
        "slideshow": {
          "slide_type": "slide"
        }
      }
    },
    {
      "cell_type": "code",
      "source": [
        "import this"
      ],
      "outputs": [],
      "execution_count": null,
      "metadata": {}
    },
    {
      "cell_type": "markdown",
      "source": [
        "## Further Reading\n",
        "\n",
        "- string formatting and interpolation\n",
        "- regular expression\n",
        "- usefule built-in modules\n",
        "    - time\n",
        "    - os\n",
        "    - sys\n",
        "\n",
        "- [free programming books](https://github.com/EbookFoundation/free-programming-books#readme) - \n",
        "[中文](https://github.com/EbookFoundation/free-programming-books/blob/master/free-programming-books-zh.md)"
      ],
      "metadata": {
        "slideshow": {
          "slide_type": "slide"
        }
      }
    }
  ],
  "metadata": {
    "kernelspec": {
      "display_name": "Python 3",
      "language": "python",
      "name": "python3"
    },
    "language_info": {
      "codemirror_mode": {
        "name": "ipython",
        "version": 3
      },
      "file_extension": ".py",
      "mimetype": "text/x-python",
      "name": "python",
      "nbconvert_exporter": "python",
      "pygments_lexer": "ipython3",
      "version": "3.6.7"
    },
    "nteract": {
      "version": "0.12.3"
    }
  },
  "nbformat": 4,
  "nbformat_minor": 2
}